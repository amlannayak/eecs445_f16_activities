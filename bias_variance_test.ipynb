{
 "cells": [
  {
   "cell_type": "markdown",
   "metadata": {},
   "source": [
    "# Bias-Variance Tradeoff\n",
    "Recall $y = f + \\epsilon$, where $\\epsilon$ is some $0$-mean noise with var. $\\sigma^2$\n",
    "Alg receives dataset $S$ and outputs $\\hat f$, prediction of $y$. The error is:\n",
    "$$\\mathbb{E}[(y - \\hat{f})^2] = \\underbrace{{\\sigma^2}}_\\text{irreducible error} + \\underbrace{{\\text{Var}[\\hat{f}]}}_\\text{Variance} + \\underbrace{{\\mathbb{E}[f - \\mathbb{E}_S[\\hat{f}]]}^2}_{\\text{Bias}^2}$$\n",
    "Break error into two terms relating to $\\mathbb{E}_{S}[\\hat f]$ the \"average\" estimate over random datasets $S$.\n",
    "Bias of an estim.: $\\text{Bias}(\\hat{f}) = (\\mathbb{E}_S[\\hat{f}] - f)$\n",
    "Variance of estim.: $\\text{Var}(\\hat{f}) = \\mathbb{E}[(\\hat{f} - \\mathbb{E}_S[\\hat{f}])^2]$\n"
   ]
  }
 ],
 "metadata": {
  "kernelspec": {
   "display_name": "Python 2",
   "language": "python",
   "name": "python2"
  },
  "language_info": {
   "codemirror_mode": {
    "name": "ipython",
    "version": 2
   },
   "file_extension": ".py",
   "mimetype": "text/x-python",
   "name": "python",
   "nbconvert_exporter": "python",
   "pygments_lexer": "ipython2",
   "version": "2.7.11"
  }
 },
 "nbformat": 4,
 "nbformat_minor": 0
}
